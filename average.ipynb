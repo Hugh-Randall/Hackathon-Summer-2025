{
 "cells": [
  {
   "cell_type": "code",
   "execution_count": 13,
   "id": "c17c2622-9e6f-441d-9648-78f14caef80b",
   "metadata": {},
   "outputs": [],
   "source": [
    "import numpy as np\n",
    "import pandas as pd\n",
    "import matplotlib.pyplot as plt\n",
    "from tqdm import tqdm\n",
    "import seaborn as sns\n",
    "sns.set_theme(palette='muted',font_scale=1.3)\n",
    "plt.rcParams.update({'font.size': 20})"
   ]
  },
  {
   "cell_type": "markdown",
   "id": "90bb0ec4-7464-4961-8bcb-aa67961a11b8",
   "metadata": {},
   "source": [
    "### Load and summarize some points in the data "
   ]
  },
  {
   "cell_type": "code",
   "execution_count": 2,
   "id": "002e90c5-202a-4a08-b0a4-8d02d50cf2bb",
   "metadata": {},
   "outputs": [
    {
     "name": "stdout",
     "output_type": "stream",
     "text": [
      "Number of genes to predict = 1000\n",
      "Number of pairs to predict = 50\n"
     ]
    }
   ],
   "source": [
    "df = pd.read_csv('./data/train_set.csv', index_col=0)\n",
    "\n",
    "genes_to_predict = list(df.index)\n",
    "pairs_to_predict = list(pd.read_csv('./data/test_set.csv', header=None)[0])\n",
    "\n",
    "print('Number of genes to predict = ' + str(len(genes_to_predict)))\n",
    "print('Number of pairs to predict = ' + str(len(pairs_to_predict)))"
   ]
  },
  {
   "cell_type": "code",
   "execution_count": 3,
   "id": "fba52966-954c-491b-88ea-7132a1228c1d",
   "metadata": {},
   "outputs": [
    {
     "name": "stdout",
     "output_type": "stream",
     "text": [
      "Number of unique single perturbations in data set = 101\n",
      "Number of unique double perturbations in data set = 75\n"
     ]
    }
   ],
   "source": [
    "s_per = [x for x in df.columns if '+ctrl' in x]\n",
    "s_per = [x[:5] for x in s_per]\n",
    "s_per = list(set(s_per))\n",
    "s_per.sort()\n",
    "print('Number of unique single perturbations in data set = ' + str(len(s_per)))\n",
    "\n",
    "d_per = [x for x in df.columns if (('+' in x)&('ctrl' not in x))]\n",
    "d_per = [x[:11] for x in d_per]\n",
    "d_per = list(set(d_per))\n",
    "d_per.sort()\n",
    "print('Number of unique double perturbations in data set = ' + str(len(d_per)))"
   ]
  },
  {
   "cell_type": "markdown",
   "id": "55dde0eb-2cee-4be4-89d2-3ff881e61397",
   "metadata": {},
   "source": [
    "### Make prediction"
   ]
  },
  {
   "cell_type": "code",
   "execution_count": 133,
   "id": "50dd59b8-d3bb-472f-9a0b-91240ca3ed49",
   "metadata": {},
   "outputs": [
    {
     "name": "stderr",
     "output_type": "stream",
     "text": [
      "100%|██████████████████████████████████████████████████████████████████████████████| 1000/1000 [00:29<00:00, 34.44it/s]\n"
     ]
    },
    {
     "data": {
      "text/html": [
       "<div>\n",
       "<style scoped>\n",
       "    .dataframe tbody tr th:only-of-type {\n",
       "        vertical-align: middle;\n",
       "    }\n",
       "\n",
       "    .dataframe tbody tr th {\n",
       "        vertical-align: top;\n",
       "    }\n",
       "\n",
       "    .dataframe thead th {\n",
       "        text-align: right;\n",
       "    }\n",
       "</style>\n",
       "<table border=\"1\" class=\"dataframe\">\n",
       "  <thead>\n",
       "    <tr style=\"text-align: right;\">\n",
       "      <th></th>\n",
       "      <th>gene</th>\n",
       "      <th>perturbation</th>\n",
       "      <th>expression</th>\n",
       "    </tr>\n",
       "  </thead>\n",
       "  <tbody>\n",
       "    <tr>\n",
       "      <th>0</th>\n",
       "      <td>g0001</td>\n",
       "      <td>g0037+g0083</td>\n",
       "      <td>0.36619</td>\n",
       "    </tr>\n",
       "    <tr>\n",
       "      <th>1</th>\n",
       "      <td>g0001</td>\n",
       "      <td>g0083+g0605</td>\n",
       "      <td>0.38051</td>\n",
       "    </tr>\n",
       "    <tr>\n",
       "      <th>2</th>\n",
       "      <td>g0001</td>\n",
       "      <td>g0095+g0257</td>\n",
       "      <td>0.234398</td>\n",
       "    </tr>\n",
       "    <tr>\n",
       "      <th>3</th>\n",
       "      <td>g0001</td>\n",
       "      <td>g0095+g0520</td>\n",
       "      <td>0.21667</td>\n",
       "    </tr>\n",
       "    <tr>\n",
       "      <th>4</th>\n",
       "      <td>g0001</td>\n",
       "      <td>g0109+g0317</td>\n",
       "      <td>0.31663</td>\n",
       "    </tr>\n",
       "    <tr>\n",
       "      <th>...</th>\n",
       "      <td>...</td>\n",
       "      <td>...</td>\n",
       "      <td>...</td>\n",
       "    </tr>\n",
       "    <tr>\n",
       "      <th>49995</th>\n",
       "      <td>g1000</td>\n",
       "      <td>g0924+g0852</td>\n",
       "      <td>0.935889</td>\n",
       "    </tr>\n",
       "    <tr>\n",
       "      <th>49996</th>\n",
       "      <td>g1000</td>\n",
       "      <td>g0927+g0186</td>\n",
       "      <td>1.1313</td>\n",
       "    </tr>\n",
       "    <tr>\n",
       "      <th>49997</th>\n",
       "      <td>g1000</td>\n",
       "      <td>g0957+g0186</td>\n",
       "      <td>1.109239</td>\n",
       "    </tr>\n",
       "    <tr>\n",
       "      <th>49998</th>\n",
       "      <td>g1000</td>\n",
       "      <td>g0957+g0261</td>\n",
       "      <td>0.971783</td>\n",
       "    </tr>\n",
       "    <tr>\n",
       "      <th>49999</th>\n",
       "      <td>g1000</td>\n",
       "      <td>g0965+g0417</td>\n",
       "      <td>1.083236</td>\n",
       "    </tr>\n",
       "  </tbody>\n",
       "</table>\n",
       "<p>50000 rows × 3 columns</p>\n",
       "</div>"
      ],
      "text/plain": [
       "        gene perturbation expression\n",
       "0      g0001  g0037+g0083    0.36619\n",
       "1      g0001  g0083+g0605    0.38051\n",
       "2      g0001  g0095+g0257   0.234398\n",
       "3      g0001  g0095+g0520    0.21667\n",
       "4      g0001  g0109+g0317    0.31663\n",
       "...      ...          ...        ...\n",
       "49995  g1000  g0924+g0852   0.935889\n",
       "49996  g1000  g0927+g0186     1.1313\n",
       "49997  g1000  g0957+g0186   1.109239\n",
       "49998  g1000  g0957+g0261   0.971783\n",
       "49999  g1000  g0965+g0417   1.083236\n",
       "\n",
       "[50000 rows x 3 columns]"
      ]
     },
     "execution_count": 133,
     "metadata": {},
     "output_type": "execute_result"
    }
   ],
   "source": [
    "preds = pd.DataFrame(columns=['gene', 'perturbation', 'expression'], index=range(50_000))\n",
    "\n",
    "cols_to_avg_dict = {}\n",
    "for pair in pairs_to_predict:\n",
    "    # for k in range(1):\n",
    "    #     pair = pairs_to_predict[0]\n",
    "    g1 = pair.split('+')[0]\n",
    "    g2 = pair.split('+')[1]\n",
    "    # add control columns\n",
    "    cols_to_average = [x for x in df.columns if (('ctrl' in x)&(len(x)<=7))]\n",
    "\n",
    "    # add columns if either gene in the perturbation was part of a previous double perturbation\n",
    "    for double in d_per:\n",
    "        if ((g1 in double) | (g2 in double)):\n",
    "            cols_to_add = [x for x in df.columns if double in x]\n",
    "            cols_to_average.extend(cols_to_add)\n",
    "    \n",
    "    # add columns if either gene in the perturbation was previously sinlgy perturbed\n",
    "    for single in s_per:\n",
    "        if ((g1 in single) | (g2 in single)):\n",
    "            cols_to_add = [x for x in df.columns if (((single+'+') in x)|(('+'+single) in x))]\n",
    "            cols_to_average.extend(cols_to_add)\n",
    "    cols_to_avg_dict[pair] = cols_to_average\n",
    "\n",
    "j = 0\n",
    "for i in tqdm(range(len(genes_to_predict))):\n",
    "# for i in tqdm(range(1)):\n",
    "    gene = genes_to_predict[i]\n",
    "    for pair in pairs_to_predict:\n",
    "        cols_to_average = cols_to_avg_dict[pair]    \n",
    "        temp = df.loc[gene]\n",
    "        temp = temp[cols_to_average]\n",
    "        expression = np.mean(temp)\n",
    "        preds.iloc[j] = [gene, pair, expression]\n",
    "        j += 1\n",
    "preds        "
   ]
  },
  {
   "cell_type": "code",
   "execution_count": 134,
   "id": "9a367a6d-c785-41c0-bf04-1620628ecae1",
   "metadata": {},
   "outputs": [],
   "source": [
    "preds = preds.sort_values(['perturbation','gene'])\n",
    "preds.to_csv('./prediction/prediction.csv', index=False)\n",
    "preds.to_csv('./prediction/prediction_average.csv', index=False)"
   ]
  },
  {
   "cell_type": "markdown",
   "id": "15d4fc7c-4770-4115-b819-c9e7406aa248",
   "metadata": {},
   "source": [
    "### Test that I have the right order"
   ]
  },
  {
   "cell_type": "code",
   "execution_count": 127,
   "id": "bed24d00-5826-434d-87b8-3da34ef88c18",
   "metadata": {},
   "outputs": [],
   "source": [
    "template = pd.read_csv('./prediction/prediction-template.csv')\n",
    "template = template[['gene', 'perturbation']]\n",
    "submission = preds[['gene', 'perturbation']].reset_index(drop=True)"
   ]
  },
  {
   "cell_type": "code",
   "execution_count": 130,
   "id": "0b59a9b6-c3fc-4db8-8338-b03538f2709b",
   "metadata": {},
   "outputs": [
    {
     "data": {
      "text/plain": [
       "gene            True\n",
       "perturbation    True\n",
       "dtype: bool"
      ]
     },
     "execution_count": 130,
     "metadata": {},
     "output_type": "execute_result"
    }
   ],
   "source": [
    "(submission == template).all()"
   ]
  },
  {
   "cell_type": "code",
   "execution_count": null,
   "id": "9ed619f9-f51f-409c-a1d0-bf32e2d617d0",
   "metadata": {},
   "outputs": [],
   "source": []
  },
  {
   "cell_type": "markdown",
   "id": "2277edcf-adbf-48c1-8a85-1cfbff43e095",
   "metadata": {},
   "source": [
    "# Weighted Average"
   ]
  },
  {
   "cell_type": "code",
   "execution_count": 4,
   "id": "019ef1b8-fdf0-4732-af64-253907ea6b1b",
   "metadata": {},
   "outputs": [],
   "source": [
    "cols_to_avg_dict = {}\n",
    "for pair in pairs_to_predict:\n",
    "    # for k in range(1):\n",
    "    #     pair = pairs_to_predict[0]\n",
    "    g1 = pair.split('+')[0]\n",
    "    g2 = pair.split('+')[1]\n",
    "    # add control columns\n",
    "    cols_to_average = [x for x in df.columns if (('ctrl' in x)&(len(x)<=7))]\n",
    "\n",
    "    # add columns if either gene in the perturbation was part of a previous double perturbation\n",
    "    for double in d_per:\n",
    "        if ((g1 in double) | (g2 in double)):\n",
    "            cols_to_add = [x for x in df.columns if double in x]\n",
    "            cols_to_average.extend(cols_to_add)\n",
    "    \n",
    "    # add columns if either gene in the perturbation was previously sinlgy perturbed\n",
    "    for single in s_per:\n",
    "        if ((g1 in single) | (g2 in single)):\n",
    "            cols_to_add = [x for x in df.columns if (((single+'+') in x)|(('+'+single) in x))]\n",
    "            cols_to_average.extend(cols_to_add)\n",
    "    cols_to_avg_dict[pair] = cols_to_average"
   ]
  },
  {
   "cell_type": "code",
   "execution_count": 8,
   "id": "24a9219f-c9a6-4ace-929a-5cb8114ce80d",
   "metadata": {},
   "outputs": [],
   "source": [
    "def make_weights(cols_to_average):\n",
    "    weights = np.ones(len(cols_to_average))\n",
    "    for i, col in enumerate(cols_to_average):\n",
    "        if '+g' in col:\n",
    "            weights[i] = 0.25\n",
    "    return weights"
   ]
  },
  {
   "cell_type": "code",
   "execution_count": 10,
   "id": "4e7eede8-3957-4be1-a5c0-066a7d6f65fb",
   "metadata": {},
   "outputs": [
    {
     "name": "stderr",
     "output_type": "stream",
     "text": [
      "100%|██████████████████████████████████████████████████████████████████████████████| 1000/1000 [00:19<00:00, 52.01it/s]\n"
     ]
    },
    {
     "data": {
      "text/html": [
       "<div>\n",
       "<style scoped>\n",
       "    .dataframe tbody tr th:only-of-type {\n",
       "        vertical-align: middle;\n",
       "    }\n",
       "\n",
       "    .dataframe tbody tr th {\n",
       "        vertical-align: top;\n",
       "    }\n",
       "\n",
       "    .dataframe thead th {\n",
       "        text-align: right;\n",
       "    }\n",
       "</style>\n",
       "<table border=\"1\" class=\"dataframe\">\n",
       "  <thead>\n",
       "    <tr style=\"text-align: right;\">\n",
       "      <th></th>\n",
       "      <th>gene</th>\n",
       "      <th>perturbation</th>\n",
       "      <th>expression</th>\n",
       "    </tr>\n",
       "  </thead>\n",
       "  <tbody>\n",
       "    <tr>\n",
       "      <th>0</th>\n",
       "      <td>g0001</td>\n",
       "      <td>g0037+g0083</td>\n",
       "      <td>0.343442</td>\n",
       "    </tr>\n",
       "    <tr>\n",
       "      <th>1</th>\n",
       "      <td>g0001</td>\n",
       "      <td>g0083+g0605</td>\n",
       "      <td>0.344474</td>\n",
       "    </tr>\n",
       "    <tr>\n",
       "      <th>2</th>\n",
       "      <td>g0001</td>\n",
       "      <td>g0095+g0257</td>\n",
       "      <td>0.255192</td>\n",
       "    </tr>\n",
       "    <tr>\n",
       "      <th>3</th>\n",
       "      <td>g0001</td>\n",
       "      <td>g0095+g0520</td>\n",
       "      <td>0.229867</td>\n",
       "    </tr>\n",
       "    <tr>\n",
       "      <th>4</th>\n",
       "      <td>g0001</td>\n",
       "      <td>g0109+g0317</td>\n",
       "      <td>0.327343</td>\n",
       "    </tr>\n",
       "    <tr>\n",
       "      <th>...</th>\n",
       "      <td>...</td>\n",
       "      <td>...</td>\n",
       "      <td>...</td>\n",
       "    </tr>\n",
       "    <tr>\n",
       "      <th>49995</th>\n",
       "      <td>g1000</td>\n",
       "      <td>g0924+g0852</td>\n",
       "      <td>1.002306</td>\n",
       "    </tr>\n",
       "    <tr>\n",
       "      <th>49996</th>\n",
       "      <td>g1000</td>\n",
       "      <td>g0927+g0186</td>\n",
       "      <td>1.170681</td>\n",
       "    </tr>\n",
       "    <tr>\n",
       "      <th>49997</th>\n",
       "      <td>g1000</td>\n",
       "      <td>g0957+g0186</td>\n",
       "      <td>1.13811</td>\n",
       "    </tr>\n",
       "    <tr>\n",
       "      <th>49998</th>\n",
       "      <td>g1000</td>\n",
       "      <td>g0957+g0261</td>\n",
       "      <td>0.986197</td>\n",
       "    </tr>\n",
       "    <tr>\n",
       "      <th>49999</th>\n",
       "      <td>g1000</td>\n",
       "      <td>g0965+g0417</td>\n",
       "      <td>1.1685</td>\n",
       "    </tr>\n",
       "  </tbody>\n",
       "</table>\n",
       "<p>50000 rows × 3 columns</p>\n",
       "</div>"
      ],
      "text/plain": [
       "        gene perturbation expression\n",
       "0      g0001  g0037+g0083   0.343442\n",
       "1      g0001  g0083+g0605   0.344474\n",
       "2      g0001  g0095+g0257   0.255192\n",
       "3      g0001  g0095+g0520   0.229867\n",
       "4      g0001  g0109+g0317   0.327343\n",
       "...      ...          ...        ...\n",
       "49995  g1000  g0924+g0852   1.002306\n",
       "49996  g1000  g0927+g0186   1.170681\n",
       "49997  g1000  g0957+g0186    1.13811\n",
       "49998  g1000  g0957+g0261   0.986197\n",
       "49999  g1000  g0965+g0417     1.1685\n",
       "\n",
       "[50000 rows x 3 columns]"
      ]
     },
     "execution_count": 10,
     "metadata": {},
     "output_type": "execute_result"
    }
   ],
   "source": [
    "preds = pd.DataFrame(columns=['gene', 'perturbation', 'expression'], index=range(50_000))\n",
    "\n",
    "j = 0\n",
    "for i in tqdm(range(len(genes_to_predict))):\n",
    "# for i in tqdm(range(1)):\n",
    "    gene = genes_to_predict[i]\n",
    "    for pair in pairs_to_predict:\n",
    "        cols_to_average = cols_to_avg_dict[pair]    \n",
    "        weights = make_weights(cols_to_average)\n",
    "        \n",
    "        temp = df.loc[gene]\n",
    "        temp = temp[cols_to_average]\n",
    "        expression = np.average(temp, weights=weights)\n",
    "        preds.iloc[j] = [gene, pair, expression]\n",
    "        j += 1\n",
    "preds     "
   ]
  },
  {
   "cell_type": "code",
   "execution_count": 11,
   "id": "827d05da-2bed-4b57-b88d-c35bf2b5fd2d",
   "metadata": {},
   "outputs": [],
   "source": [
    "preds = preds.sort_values(['perturbation','gene'])\n",
    "preds.to_csv('./prediction/prediction.csv', index=False)\n",
    "preds.to_csv('./prediction/prediction_weighted_average.csv', index=False)"
   ]
  },
  {
   "cell_type": "markdown",
   "id": "6ff1d2c5-d451-45b9-86c2-09ce86914e59",
   "metadata": {},
   "source": [
    "### compare to previous submissions"
   ]
  },
  {
   "cell_type": "code",
   "execution_count": 14,
   "id": "931114b8-a938-470d-92d9-c0cc80b0c13c",
   "metadata": {},
   "outputs": [
    {
     "data": {
      "image/png": "[encoded data removed]",
      "text/plain": [
       "<Figure size 640x480 with 1 Axes>"
      ]
     },
     "metadata": {},
     "output_type": "display_data"
    }
   ],
   "source": [
    "pred_avg = pd.read_csv('./prediction/prediction_average.csv')\n",
    "pred_median = pd.read_csv('./prediction/prediction_median.csv')\n",
    "pred_wavg = pd.read_csv('./prediction/prediction_weighted_average.csv')\n",
    "\n",
    "diff_avg = pred_wavg['expression'] - pred_avg['expression']\n",
    "diff_med = pred_wavg['expression'] - pred_median['expression']\n",
    "\n",
    "nbins = 100\n",
    "plt.hist(diff_avg, bins=nbins, histtype='step', density=True, label='diff_avg')\n",
    "plt.hist(diff_med, bins=nbins, histtype='step', density=True, label='diff_med')\n",
    "plt.legend();"
   ]
  },
  {
   "cell_type": "code",
   "execution_count": 15,
   "id": "46f953d9-8e84-45bd-8427-fb07f474dad6",
   "metadata": {},
   "outputs": [
    {
     "name": "stdout",
     "output_type": "stream",
     "text": [
      "RMSD wavg-avg = 0.03147970314897869\n",
      "RMSD wavg-med = 0.13731361581671897\n"
     ]
    }
   ],
   "source": [
    "rmsd_avg = np.sqrt(np.mean(diff_avg**2))\n",
    "rmsd_med = np.sqrt(np.mean(diff_med**2))\n",
    "\n",
    "print('RMSD wavg-avg = ' + str(rmsd_avg))\n",
    "print('RMSD wavg-med = ' + str(rmsd_med))"
   ]
  },
  {
   "cell_type": "code",
   "execution_count": null,
   "id": "a0da881d-b8a9-412e-a9ab-0f33c82200d9",
   "metadata": {},
   "outputs": [],
   "source": []
  }
 ],
 "metadata": {
  "kernelspec": {
   "display_name": "Python 3 (ipykernel)",
   "language": "python",
   "name": "python3"
  },
  "language_info": {
   "codemirror_mode": {
    "name": "ipython",
    "version": 3
   },
   "file_extension": ".py",
   "mimetype": "text/x-python",
   "name": "python",
   "nbconvert_exporter": "python",
   "pygments_lexer": "ipython3",
   "version": "3.12.3"
  }
 },
 "nbformat": 4,
 "nbformat_minor": 5
}
