{
 "cells": [
  {
   "cell_type": "code",
   "execution_count": 1,
   "id": "c17c2622-9e6f-441d-9648-78f14caef80b",
   "metadata": {},
   "outputs": [],
   "source": [
    "import numpy as np\n",
    "import pandas as pd\n",
    "import matplotlib.pyplot as plt\n",
    "from tqdm import tqdm"
   ]
  },
  {
   "cell_type": "markdown",
   "id": "90bb0ec4-7464-4961-8bcb-aa67961a11b8",
   "metadata": {},
   "source": [
    "### Load and summarize some points in the data "
   ]
  },
  {
   "cell_type": "code",
   "execution_count": 2,
   "id": "002e90c5-202a-4a08-b0a4-8d02d50cf2bb",
   "metadata": {},
   "outputs": [
    {
     "name": "stdout",
     "output_type": "stream",
     "text": [
      "Number of genes to predict = 1000\n",
      "Number of pairs to predict = 50\n"
     ]
    }
   ],
   "source": [
    "df = pd.read_csv('./data/train_set.csv', index_col=0)\n",
    "\n",
    "genes_to_predict = list(df.index)\n",
    "pairs_to_predict = list(pd.read_csv('./data/test_set.csv', header=None)[0])\n",
    "\n",
    "print('Number of genes to predict = ' + str(len(genes_to_predict)))\n",
    "print('Number of pairs to predict = ' + str(len(pairs_to_predict)))"
   ]
  },
  {
   "cell_type": "code",
   "execution_count": 3,
   "id": "fba52966-954c-491b-88ea-7132a1228c1d",
   "metadata": {},
   "outputs": [
    {
     "name": "stdout",
     "output_type": "stream",
     "text": [
      "Number of unique single perturbations in data set = 101\n",
      "Number of unique double perturbations in data set = 75\n"
     ]
    }
   ],
   "source": [
    "s_per = [x for x in df.columns if '+ctrl' in x]\n",
    "s_per = [x[:5] for x in s_per]\n",
    "s_per = list(set(s_per))\n",
    "s_per.sort()\n",
    "print('Number of unique single perturbations in data set = ' + str(len(s_per)))\n",
    "\n",
    "d_per = [x for x in df.columns if (('+' in x)&('ctrl' not in x))]\n",
    "d_per = [x[:11] for x in d_per]\n",
    "d_per = list(set(d_per))\n",
    "d_per.sort()\n",
    "print('Number of unique double perturbations in data set = ' + str(len(d_per)))"
   ]
  },
  {
   "cell_type": "markdown",
   "id": "55dde0eb-2cee-4be4-89d2-3ff881e61397",
   "metadata": {},
   "source": [
    "### Make prediction"
   ]
  },
  {
   "cell_type": "code",
   "execution_count": 4,
   "id": "50dd59b8-d3bb-472f-9a0b-91240ca3ed49",
   "metadata": {},
   "outputs": [
    {
     "name": "stderr",
     "output_type": "stream",
     "text": [
      "100%|██████████████████████████████████████████████████████████████████████████████| 1000/1000 [00:34<00:00, 28.88it/s]\n"
     ]
    },
    {
     "data": {
      "text/html": [
       "<div>\n",
       "<style scoped>\n",
       "    .dataframe tbody tr th:only-of-type {\n",
       "        vertical-align: middle;\n",
       "    }\n",
       "\n",
       "    .dataframe tbody tr th {\n",
       "        vertical-align: top;\n",
       "    }\n",
       "\n",
       "    .dataframe thead th {\n",
       "        text-align: right;\n",
       "    }\n",
       "</style>\n",
       "<table border=\"1\" class=\"dataframe\">\n",
       "  <thead>\n",
       "    <tr style=\"text-align: right;\">\n",
       "      <th></th>\n",
       "      <th>gene</th>\n",
       "      <th>perturbation</th>\n",
       "      <th>expression</th>\n",
       "    </tr>\n",
       "  </thead>\n",
       "  <tbody>\n",
       "    <tr>\n",
       "      <th>0</th>\n",
       "      <td>g0001</td>\n",
       "      <td>g0037+g0083</td>\n",
       "      <td>0.020463</td>\n",
       "    </tr>\n",
       "    <tr>\n",
       "      <th>1</th>\n",
       "      <td>g0001</td>\n",
       "      <td>g0083+g0605</td>\n",
       "      <td>0.015775</td>\n",
       "    </tr>\n",
       "    <tr>\n",
       "      <th>2</th>\n",
       "      <td>g0001</td>\n",
       "      <td>g0095+g0257</td>\n",
       "      <td>0.006177</td>\n",
       "    </tr>\n",
       "    <tr>\n",
       "      <th>3</th>\n",
       "      <td>g0001</td>\n",
       "      <td>g0095+g0520</td>\n",
       "      <td>0.005018</td>\n",
       "    </tr>\n",
       "    <tr>\n",
       "      <th>4</th>\n",
       "      <td>g0001</td>\n",
       "      <td>g0109+g0317</td>\n",
       "      <td>0.008745</td>\n",
       "    </tr>\n",
       "    <tr>\n",
       "      <th>...</th>\n",
       "      <td>...</td>\n",
       "      <td>...</td>\n",
       "      <td>...</td>\n",
       "    </tr>\n",
       "    <tr>\n",
       "      <th>49995</th>\n",
       "      <td>g1000</td>\n",
       "      <td>g0924+g0852</td>\n",
       "      <td>1.049172</td>\n",
       "    </tr>\n",
       "    <tr>\n",
       "      <th>49996</th>\n",
       "      <td>g1000</td>\n",
       "      <td>g0927+g0186</td>\n",
       "      <td>1.214958</td>\n",
       "    </tr>\n",
       "    <tr>\n",
       "      <th>49997</th>\n",
       "      <td>g1000</td>\n",
       "      <td>g0957+g0186</td>\n",
       "      <td>1.210346</td>\n",
       "    </tr>\n",
       "    <tr>\n",
       "      <th>49998</th>\n",
       "      <td>g1000</td>\n",
       "      <td>g0957+g0261</td>\n",
       "      <td>1.06954</td>\n",
       "    </tr>\n",
       "    <tr>\n",
       "      <th>49999</th>\n",
       "      <td>g1000</td>\n",
       "      <td>g0965+g0417</td>\n",
       "      <td>1.176025</td>\n",
       "    </tr>\n",
       "  </tbody>\n",
       "</table>\n",
       "<p>50000 rows × 3 columns</p>\n",
       "</div>"
      ],
      "text/plain": [
       "        gene perturbation expression\n",
       "0      g0001  g0037+g0083   0.020463\n",
       "1      g0001  g0083+g0605   0.015775\n",
       "2      g0001  g0095+g0257   0.006177\n",
       "3      g0001  g0095+g0520   0.005018\n",
       "4      g0001  g0109+g0317   0.008745\n",
       "...      ...          ...        ...\n",
       "49995  g1000  g0924+g0852   1.049172\n",
       "49996  g1000  g0927+g0186   1.214958\n",
       "49997  g1000  g0957+g0186   1.210346\n",
       "49998  g1000  g0957+g0261    1.06954\n",
       "49999  g1000  g0965+g0417   1.176025\n",
       "\n",
       "[50000 rows x 3 columns]"
      ]
     },
     "execution_count": 4,
     "metadata": {},
     "output_type": "execute_result"
    }
   ],
   "source": [
    "preds = pd.DataFrame(columns=['gene', 'perturbation', 'expression'], index=range(50_000))\n",
    "\n",
    "cols_to_avg_dict = {}\n",
    "for pair in pairs_to_predict:\n",
    "    # for k in range(1):\n",
    "    #     pair = pairs_to_predict[0]\n",
    "    g1 = pair.split('+')[0]\n",
    "    g2 = pair.split('+')[1]\n",
    "    # add control columns\n",
    "    cols_to_average = [x for x in df.columns if (('ctrl' in x)&(len(x)<=7))]\n",
    "\n",
    "    # add columns if either gene in the perturbation was part of a previous double perturbation\n",
    "    for double in d_per:\n",
    "        if ((g1 in double) | (g2 in double)):\n",
    "            cols_to_add = [x for x in df.columns if double in x]\n",
    "            cols_to_average.extend(cols_to_add)\n",
    "    \n",
    "    # add columns if either gene in the perturbation was previously sinlgy perturbed\n",
    "    for single in s_per:\n",
    "        if ((g1 in single) | (g2 in single)):\n",
    "            cols_to_add = [x for x in df.columns if (((single+'+') in x)|(('+'+single) in x))]\n",
    "            cols_to_average.extend(cols_to_add)\n",
    "    cols_to_avg_dict[pair] = cols_to_average\n",
    "\n",
    "j = 0\n",
    "for i in tqdm(range(len(genes_to_predict))):\n",
    "# for i in tqdm(range(1)):\n",
    "    gene = genes_to_predict[i]\n",
    "    for pair in pairs_to_predict:\n",
    "        cols_to_average = cols_to_avg_dict[pair]\n",
    "        temp = df.loc[gene]\n",
    "        temp = temp[cols_to_average]\n",
    "        expression = np.median(temp)\n",
    "        preds.iloc[j] = [gene, pair, expression]\n",
    "        j += 1\n",
    "preds        "
   ]
  },
  {
   "cell_type": "code",
   "execution_count": 8,
   "id": "9a367a6d-c785-41c0-bf04-1620628ecae1",
   "metadata": {},
   "outputs": [],
   "source": [
    "preds = preds.sort_values(['perturbation','gene'])\n",
    "preds.to_csv('./prediction/prediction.csv', index=False)\n",
    "preds.to_csv('./prediction/prediction_median.csv', index=False)"
   ]
  },
  {
   "cell_type": "markdown",
   "id": "15d4fc7c-4770-4115-b819-c9e7406aa248",
   "metadata": {},
   "source": [
    "### Test that I have the right order"
   ]
  },
  {
   "cell_type": "code",
   "execution_count": 6,
   "id": "bed24d00-5826-434d-87b8-3da34ef88c18",
   "metadata": {},
   "outputs": [],
   "source": [
    "template = pd.read_csv('./prediction/prediction-template.csv')\n",
    "template = template[['gene', 'perturbation']]\n",
    "submission = preds[['gene', 'perturbation']].reset_index(drop=True)"
   ]
  },
  {
   "cell_type": "code",
   "execution_count": 7,
   "id": "0b59a9b6-c3fc-4db8-8338-b03538f2709b",
   "metadata": {},
   "outputs": [
    {
     "data": {
      "text/plain": [
       "gene            True\n",
       "perturbation    True\n",
       "dtype: bool"
      ]
     },
     "execution_count": 7,
     "metadata": {},
     "output_type": "execute_result"
    }
   ],
   "source": [
    "(submission == template).all()"
   ]
  },
  {
   "cell_type": "code",
   "execution_count": null,
   "id": "9ed619f9-f51f-409c-a1d0-bf32e2d617d0",
   "metadata": {},
   "outputs": [],
   "source": []
  },
  {
   "cell_type": "markdown",
   "id": "8025b40a-eea4-4b92-b408-533918b5b77d",
   "metadata": {},
   "source": [
    "### compare to predictions_average"
   ]
  },
  {
   "cell_type": "code",
   "execution_count": 9,
   "id": "b94ff116-4f42-42fb-90d6-ba6b771588d4",
   "metadata": {},
   "outputs": [
    {
     "data": {
      "image/png": "[encoded data removed]",
      "text/plain": [
       "<Figure size 640x480 with 1 Axes>"
      ]
     },
     "metadata": {},
     "output_type": "display_data"
    }
   ],
   "source": [
    "pred_avg = pd.read_csv('./prediction/prediction_average.csv')\n",
    "pred_median = pd.read_csv('./prediction/prediction_median.csv')\n",
    "\n",
    "diff = pred_avg['expression'] - pred_median['expression']\n",
    "plt.hist(diff, bins=100);"
   ]
  },
  {
   "cell_type": "code",
   "execution_count": 10,
   "id": "137b5ffe-b54d-460b-a47f-7bc3e217a282",
   "metadata": {},
   "outputs": [
    {
     "data": {
      "text/plain": [
       "0.13865962371188187"
      ]
     },
     "execution_count": 10,
     "metadata": {},
     "output_type": "execute_result"
    }
   ],
   "source": [
    "rmsd = np.sqrt(np.mean(diff**2))\n",
    "rmsd"
   ]
  },
  {
   "cell_type": "code",
   "execution_count": null,
   "id": "052d6ba0-2c70-4dba-acc9-1bf94045da32",
   "metadata": {},
   "outputs": [],
   "source": []
  }
 ],
 "metadata": {
  "kernelspec": {
   "display_name": "Python 3 (ipykernel)",
   "language": "python",
   "name": "python3"
  },
  "language_info": {
   "codemirror_mode": {
    "name": "ipython",
    "version": 3
   },
   "file_extension": ".py",
   "mimetype": "text/x-python",
   "name": "python",
   "nbconvert_exporter": "python",
   "pygments_lexer": "ipython3",
   "version": "3.12.3"
  }
 },
 "nbformat": 4,
 "nbformat_minor": 5
}
